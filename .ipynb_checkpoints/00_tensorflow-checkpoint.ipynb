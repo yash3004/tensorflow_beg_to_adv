{
 "cells": [
  {
   "cell_type": "code",
   "execution_count": 1,
   "id": "364c7d9f-4cb5-4ece-9196-dc3eeeddfe7c",
   "metadata": {},
   "outputs": [
    {
     "name": "stderr",
     "output_type": "stream",
     "text": [
      "2024-04-02 10:55:41.510350: I external/local_tsl/tsl/cuda/cudart_stub.cc:32] Could not find cuda drivers on your machine, GPU will not be used.\n",
      "2024-04-02 10:55:42.241573: I external/local_tsl/tsl/cuda/cudart_stub.cc:32] Could not find cuda drivers on your machine, GPU will not be used.\n",
      "2024-04-02 10:55:44.699433: I tensorflow/core/platform/cpu_feature_guard.cc:210] This TensorFlow binary is optimized to use available CPU instructions in performance-critical operations.\n",
      "To enable the following instructions: AVX2 FMA, in other operations, rebuild TensorFlow with the appropriate compiler flags.\n",
      "2024-04-02 10:55:49.008553: W tensorflow/compiler/tf2tensorrt/utils/py_utils.cc:38] TF-TRT Warning: Could not find TensorRT\n"
     ]
    }
   ],
   "source": [
    "import tensorflow as tf "
   ]
  },
  {
   "cell_type": "markdown",
   "id": "b5280750-c919-434f-86c7-a8c7830b38e7",
   "metadata": {},
   "source": [
    "### lets statty lrstning  the tensorflow more clrearly then evner \n",
    "\n"
   ]
  },
  {
   "cell_type": "code",
   "execution_count": 2,
   "id": "e5713704-53e6-4ec9-b864-d221d88fda29",
   "metadata": {},
   "outputs": [
    {
     "name": "stdout",
     "output_type": "stream",
     "text": [
      "tf.Tensor(\n",
      "[[4 5]\n",
      " [6 7]], shape=(2, 2), dtype=int32) tf.Tensor(\n",
      "[[ 2  1]\n",
      " [ 0 -1]], shape=(2, 2), dtype=int32) tf.Tensor(\n",
      "[[ 3  6]\n",
      " [ 9 12]], shape=(2, 2), dtype=int32) tf.Tensor(\n",
      "[[0.33333333 0.66666667]\n",
      " [1.         1.33333333]], shape=(2, 2), dtype=float64)\n"
     ]
    }
   ],
   "source": [
    "### from this we got to knwo matrix / tendors with similar shapes can be multiplied and div \n",
    "#tensors are created by the tf.constant\n",
    "#init a tf.constant \n",
    "a = tf.constant([1,2,3,4] , shape=(2,2))\n",
    "b= tf.constant(3)\n",
    "print(a+b , b-a , a*b , a/b)"
   ]
  },
  {
   "cell_type": "code",
   "execution_count": 3,
   "id": "f1b29232-765c-4920-b025-f6a19ed1f96f",
   "metadata": {},
   "outputs": [
    {
     "data": {
      "text/plain": [
       "<tf.Tensor: shape=(3, 2, 3), dtype=float64, numpy=\n",
       "array([[[1.3, 2.3, 3.3],\n",
       "        [4.3, 5.4, 6.3]],\n",
       "\n",
       "       [[5.4, 3.4, 0.4],\n",
       "        [0.6, 1.3, 2.3]],\n",
       "\n",
       "       [[3.3, 4.3, 5.4],\n",
       "        [6.3, 5.4, 3.4]]])>"
      ]
     },
     "execution_count": 3,
     "metadata": {},
     "output_type": "execute_result"
    }
   ],
   "source": [
    "#specifying the datatype \n",
    "c = tf.constant([1.3 , 2.3 , 3.3 , 4.3 , 5.4 , 6.3 ,5.4, 3.4 ,.4, .6,1.3 , 2.3 , 3.3 , 4.3 , 5.4 , 6.3 ,5.4, 3.4 ] ,dtype = tf.float64 ,shape=(3,2,3))\n",
    "c"
   ]
  },
  {
   "cell_type": "code",
   "execution_count": 4,
   "id": "f2801137-86fd-4d6e-9aa7-58f2625f51c5",
   "metadata": {},
   "outputs": [
    {
     "data": {
      "text/plain": [
       "<tf.Variable 'UnreadVariable' shape=(4,) dtype=int32, numpy=array([3, 2, 3, 4], dtype=int32)>"
      ]
     },
     "execution_count": 4,
     "metadata": {},
     "output_type": "execute_result"
    }
   ],
   "source": [
    "##using the variable \n",
    "\n",
    "changeable = tf.Variable([1,2,3,4])\n",
    "changeable[0].assign(3)"
   ]
  },
  {
   "cell_type": "code",
   "execution_count": 5,
   "id": "9282f6f9-0066-4dd5-9d0b-c5752a97be9b",
   "metadata": {},
   "outputs": [
    {
     "data": {
      "text/plain": [
       "<tf.Tensor: shape=(2, 2), dtype=bool, numpy=\n",
       "array([[ True,  True],\n",
       "       [ True,  True]])>"
      ]
     },
     "execution_count": 5,
     "metadata": {},
     "output_type": "execute_result"
    }
   ],
   "source": [
    "#generating random tensors \n",
    "random_1 = tf.random.Generator.from_seed(32)\n",
    "random_1 = random_1.normal(shape=(2,2))\n",
    "random_2 = tf.random.Generator.from_seed(32)\n",
    "random_2 = random_2.normal(shape=(2,2))\n",
    "random_2 ,random_1\n",
    "random_1 == random_2"
   ]
  },
  {
   "cell_type": "code",
   "execution_count": 6,
   "id": "1c2ddfb1-12ea-45ab-8ce6-b4abf1aaecce",
   "metadata": {},
   "outputs": [],
   "source": [
    "random_3 =  tf.random.Generator.from_seed(32)\n",
    "random_3_var = random_3.uniform(shape = (2,2) , minval=1 , maxval=10 , dtype=tf.int32)"
   ]
  },
  {
   "cell_type": "code",
   "execution_count": 7,
   "id": "865c380a-0516-4708-ac90-c658cbafe426",
   "metadata": {},
   "outputs": [
    {
     "data": {
      "text/plain": [
       "<tf.Tensor: shape=(2, 2), dtype=int32, numpy=\n",
       "array([[2, 9],\n",
       "       [5, 1]], dtype=int32)>"
      ]
     },
     "execution_count": 7,
     "metadata": {},
     "output_type": "execute_result"
    }
   ],
   "source": [
    "random_3_var"
   ]
  },
  {
   "cell_type": "code",
   "execution_count": 8,
   "id": "19814838-5009-413f-81fe-0f6eea760033",
   "metadata": {},
   "outputs": [
    {
     "data": {
      "text/plain": [
       "<tf.Tensor: shape=(3, 2), dtype=float32, numpy=\n",
       "array([[1.6347512, 1.4963707],\n",
       "       [2.4918532, 5.595979 ],\n",
       "       [3.905488 , 7.60696  ]], dtype=float32)>"
      ]
     },
     "execution_count": 8,
     "metadata": {},
     "output_type": "execute_result"
    }
   ],
   "source": [
    "### shuffleing the tensor when we want to shuffle the data \n",
    "not_shuffle = tf.random.uniform(shape = (3,2) , minval=1 , maxval=10)\n",
    "not_shuffle"
   ]
  },
  {
   "cell_type": "code",
   "execution_count": 9,
   "id": "f72d24f4-2b1f-46c0-9e85-e75ad71323f1",
   "metadata": {},
   "outputs": [
    {
     "data": {
      "text/plain": [
       "<tf.Tensor: shape=(3, 2), dtype=float32, numpy=\n",
       "array([[3.905488 , 7.60696  ],\n",
       "       [2.4918532, 5.595979 ],\n",
       "       [1.6347512, 1.4963707]], dtype=float32)>"
      ]
     },
     "execution_count": 9,
     "metadata": {},
     "output_type": "execute_result"
    }
   ],
   "source": [
    "tf.random.shuffle(not_shuffle)"
   ]
  },
  {
   "cell_type": "code",
   "execution_count": 10,
   "id": "4b4e72c2-879e-4a02-9dbe-573f670db7ff",
   "metadata": {},
   "outputs": [
    {
     "data": {
      "text/plain": [
       "<tf.Tensor: shape=(3, 2), dtype=float32, numpy=\n",
       "array([[3.905488 , 7.60696  ],\n",
       "       [1.6347512, 1.4963707],\n",
       "       [2.4918532, 5.595979 ]], dtype=float32)>"
      ]
     },
     "execution_count": 10,
     "metadata": {},
     "output_type": "execute_result"
    }
   ],
   "source": [
    "#the shuffle becomes constant ranther then it diffres \n",
    "## performing the seed generation \n",
    "tf.random.set_seed(32)\n",
    "tf.random.shuffle(not_shuffle)"
   ]
  },
  {
   "cell_type": "code",
   "execution_count": 11,
   "id": "611213be-38b4-4b22-9897-fd12f2e3522c",
   "metadata": {},
   "outputs": [
    {
     "data": {
      "text/plain": [
       "<tf.Tensor: shape=(3, 2), dtype=float32, numpy=\n",
       "array([[3.905488 , 7.60696  ],\n",
       "       [2.4918532, 5.595979 ],\n",
       "       [1.6347512, 1.4963707]], dtype=float32)>"
      ]
     },
     "execution_count": 11,
     "metadata": {},
     "output_type": "execute_result"
    }
   ],
   "source": [
    "# the shuffle alwaays differs \n",
    "#without the global level seed \n",
    "\n",
    "tf.random.shuffle(not_shuffle , seed=32)"
   ]
  },
  {
   "cell_type": "code",
   "execution_count": 12,
   "id": "8abe2bce-d738-41b7-8307-2ab0d6f18729",
   "metadata": {},
   "outputs": [],
   "source": [
    "#creating the tensor from the numpy arrays \n"
   ]
  },
  {
   "cell_type": "code",
   "execution_count": 13,
   "id": "9619bb98-d87e-4cd7-97e2-bc8b4cf71469",
   "metadata": {},
   "outputs": [],
   "source": [
    "\n",
    "ones=tf.ones([2,2,2,2])"
   ]
  },
  {
   "cell_type": "code",
   "execution_count": 14,
   "id": "deee3771-910b-4bf7-ada3-97b24115373a",
   "metadata": {},
   "outputs": [],
   "source": [
    "#exploting the creation of tensors \n"
   ]
  },
  {
   "cell_type": "markdown",
   "id": "1401cc62-cd6b-4807-9488-0e97a91cefc0",
   "metadata": {},
   "source": [
    "### getting info from tensors"
   ]
  },
  {
   "cell_type": "code",
   "execution_count": 15,
   "id": "a7e5d174-fe1c-4cc0-886c-360e696c3cff",
   "metadata": {},
   "outputs": [
    {
     "data": {
      "text/plain": [
       "4"
      ]
     },
     "execution_count": 15,
     "metadata": {},
     "output_type": "execute_result"
    }
   ],
   "source": [
    "ones.ndim"
   ]
  },
  {
   "cell_type": "code",
   "execution_count": 16,
   "id": "5db0af2a-0ba0-4d65-884a-09f9b4b53514",
   "metadata": {},
   "outputs": [
    {
     "data": {
      "text/plain": [
       "TensorShape([2, 2, 2, 2])"
      ]
     },
     "execution_count": 16,
     "metadata": {},
     "output_type": "execute_result"
    }
   ],
   "source": [
    "ones.shape"
   ]
  },
  {
   "cell_type": "code",
   "execution_count": 17,
   "id": "3b7b711c-7687-4144-b01d-f579f31f1932",
   "metadata": {},
   "outputs": [
    {
     "data": {
      "text/plain": [
       "tf.float32"
      ]
     },
     "execution_count": 17,
     "metadata": {},
     "output_type": "execute_result"
    }
   ],
   "source": [
    "ones.dtype"
   ]
  },
  {
   "cell_type": "code",
   "execution_count": 18,
   "id": "974830da-0535-4cdb-a651-015dcf53f7c2",
   "metadata": {},
   "outputs": [
    {
     "data": {
      "text/plain": [
       "array([1., 1.], dtype=float32)"
      ]
     },
     "execution_count": 18,
     "metadata": {},
     "output_type": "execute_result"
    }
   ],
   "source": [
    "#indexing the tensor \n",
    "ones[1,1,1].numpy()"
   ]
  },
  {
   "cell_type": "code",
   "execution_count": 19,
   "id": "0ca6507d-5791-4eb8-95ba-6e729f70d7e1",
   "metadata": {},
   "outputs": [
    {
     "name": "stdout",
     "output_type": "stream",
     "text": [
      "<class 'tensorflow.python.framework.ops.EagerTensor'>\n"
     ]
    }
   ],
   "source": [
    "size = tf.size(ones)\n",
    "print(type(size))"
   ]
  },
  {
   "cell_type": "code",
   "execution_count": 20,
   "id": "974e932d-38d8-4e93-b236-aedd11b76536",
   "metadata": {},
   "outputs": [
    {
     "data": {
      "text/plain": [
       "<tf.Tensor: shape=(3, 2, 3), dtype=float64, numpy=\n",
       "array([[[1.3, 2.3, 3.3],\n",
       "        [4.3, 5.4, 6.3]],\n",
       "\n",
       "       [[5.4, 3.4, 0.4],\n",
       "        [0.6, 1.3, 2.3]],\n",
       "\n",
       "       [[3.3, 4.3, 5.4],\n",
       "        [6.3, 5.4, 3.4]]])>"
      ]
     },
     "execution_count": 20,
     "metadata": {},
     "output_type": "execute_result"
    }
   ],
   "source": [
    "#specifying the datatype \n",
    "c = tf.constant([1.3 , 2.3 , 3.3 , 4.3 , 5.4 , 6.3 ,5.4, 3.4 ,.4, .6,1.3 , 2.3 , 3.3 , 4.3 , 5.4 , 6.3 ,5.4, 3.4 ] ,dtype = tf.float64 ,shape=(3,2,3))\n",
    "c"
   ]
  },
  {
   "cell_type": "code",
   "execution_count": 21,
   "id": "b5feb84d-5673-491c-92aa-30b8c766b510",
   "metadata": {},
   "outputs": [
    {
     "data": {
      "text/plain": [
       "<tf.Tensor: shape=(2, 2, 2), dtype=float32, numpy=\n",
       "array([[[1., 1.],\n",
       "        [1., 1.]],\n",
       "\n",
       "       [[1., 1.],\n",
       "        [1., 1.]]], dtype=float32)>"
      ]
     },
     "execution_count": 21,
     "metadata": {},
     "output_type": "execute_result"
    }
   ],
   "source": [
    "ones[:,-1]"
   ]
  },
  {
   "cell_type": "code",
   "execution_count": 22,
   "id": "96e1e00c-6bcc-4067-9806-7a1197984555",
   "metadata": {},
   "outputs": [],
   "source": [
    "#addition subration  multiplication of the tensor \n",
    "### use the tf.math operations "
   ]
  },
  {
   "cell_type": "markdown",
   "id": "0495cf8e-8214-47e3-b5e9-3a0fd0aea87d",
   "metadata": {},
   "source": [
    "### matrix multiplication in tf "
   ]
  },
  {
   "cell_type": "code",
   "execution_count": 23,
   "id": "7d29e1da-783d-4560-baae-0bcf3083f750",
   "metadata": {},
   "outputs": [
    {
     "data": {
      "text/plain": [
       "(<tf.Tensor: shape=(2, 2), dtype=int32, numpy=\n",
       " array([[9, 5],\n",
       "        [4, 3]], dtype=int32)>,\n",
       " <tf.Tensor: shape=(2, 2), dtype=int32, numpy=\n",
       " array([[8, 2],\n",
       "        [6, 9]], dtype=int32)>)"
      ]
     },
     "execution_count": 23,
     "metadata": {},
     "output_type": "execute_result"
    }
   ],
   "source": [
    "tensor1 = tf.random.uniform(shape=(2,2),minval=1,maxval=10,dtype=tf.int32)\n",
    "tensor2 = tf.random.uniform(shape=(2,2),minval=1,maxval=10,dtype=tf.int32)\n",
    "tensor1 , tensor2"
   ]
  },
  {
   "cell_type": "code",
   "execution_count": 24,
   "id": "9bfe36c8-b2df-43c2-b3b8-739f3fa7f4e2",
   "metadata": {},
   "outputs": [
    {
     "data": {
      "text/plain": [
       "<tf.Tensor: shape=(2, 2), dtype=int32, numpy=\n",
       "array([[102,  63],\n",
       "       [ 50,  35]], dtype=int32)>"
      ]
     },
     "execution_count": 24,
     "metadata": {},
     "output_type": "execute_result"
    }
   ],
   "source": [
    "matrix_mul = tf.matmul(tensor1 , tensor2)\n",
    "matrix_mul"
   ]
  },
  {
   "cell_type": "code",
   "execution_count": 25,
   "id": "aa00b3a6-09d6-4de8-95b7-42f28e188179",
   "metadata": {},
   "outputs": [
    {
     "data": {
      "text/plain": [
       "<tf.Tensor: shape=(2, 2), dtype=int32, numpy=\n",
       "array([[102,  63],\n",
       "       [ 50,  35]], dtype=int32)>"
      ]
     },
     "execution_count": 25,
     "metadata": {},
     "output_type": "execute_result"
    }
   ],
   "source": [
    "tensor1 @ tensor2 #for the matrix mulitplication "
   ]
  },
  {
   "cell_type": "code",
   "execution_count": 26,
   "id": "4d0c711b-e910-4f98-8518-a80ebe365524",
   "metadata": {},
   "outputs": [],
   "source": [
    "##multiplying the tensor of weird shape \n",
    "x = tf.random.uniform(shape = (3,2) , minval = 1,  maxval=10,dtype=tf.int32)\n",
    "y = tf.random.uniform(shape = (3,2) , minval = 1,  maxval=10,dtype=tf.int32)\n",
    "new_x =tf.reshape(x , shape=(2,3))"
   ]
  },
  {
   "cell_type": "code",
   "execution_count": 27,
   "id": "2ae2963c-839c-4a42-a407-ade9d3d55feb",
   "metadata": {},
   "outputs": [
    {
     "data": {
      "text/plain": [
       "<tf.Tensor: shape=(2, 2), dtype=int32, numpy=\n",
       "array([[ 80, 102],\n",
       "       [ 88, 102]], dtype=int32)>"
      ]
     },
     "execution_count": 27,
     "metadata": {},
     "output_type": "execute_result"
    }
   ],
   "source": [
    "mat_mul = new_x@y\n",
    "mat_mul"
   ]
  },
  {
   "cell_type": "code",
   "execution_count": 28,
   "id": "17638fb2-8d12-4480-bc2b-dd6c012014c0",
   "metadata": {},
   "outputs": [],
   "source": [
    "a =tf.reshape(mat_mul , shape=(1,tf.size(mat_mul).numpy()))"
   ]
  },
  {
   "cell_type": "code",
   "execution_count": 29,
   "id": "92e1395c-9e78-4960-8ed7-f4072cdacbe3",
   "metadata": {},
   "outputs": [
    {
     "data": {
      "text/plain": [
       "<tf.Tensor: shape=(2, 2), dtype=int32, numpy=\n",
       "array([[ 80,  88],\n",
       "       [102, 102]], dtype=int32)>"
      ]
     },
     "execution_count": 29,
     "metadata": {},
     "output_type": "execute_result"
    }
   ],
   "source": [
    "## transpose of the matrix \n",
    "tf.transpose(mat_mul)"
   ]
  },
  {
   "cell_type": "code",
   "execution_count": 30,
   "id": "c1450ff2-ce34-406b-a0fc-09b0a754ec40",
   "metadata": {},
   "outputs": [
    {
     "data": {
      "text/plain": [
       "<tf.Tensor: shape=(2, 3, 3, 2), dtype=int32, numpy=\n",
       "array([[[[32, 48],\n",
       "         [48, 64],\n",
       "         [72, 56]],\n",
       "\n",
       "        [[ 8, 12],\n",
       "         [12, 16],\n",
       "         [18, 14]],\n",
       "\n",
       "        [[16, 24],\n",
       "         [24, 32],\n",
       "         [36, 28]]],\n",
       "\n",
       "\n",
       "       [[[20, 30],\n",
       "         [30, 40],\n",
       "         [45, 35]],\n",
       "\n",
       "        [[28, 42],\n",
       "         [42, 56],\n",
       "         [63, 49]],\n",
       "\n",
       "        [[16, 24],\n",
       "         [24, 32],\n",
       "         [36, 28]]]], dtype=int32)>"
      ]
     },
     "execution_count": 30,
     "metadata": {},
     "output_type": "execute_result"
    }
   ],
   "source": [
    "tf.tensordot(tf.transpose(x) , y , 0)"
   ]
  },
  {
   "cell_type": "code",
   "execution_count": 31,
   "id": "017942b1-04f2-45aa-8e7e-7f6c43c3f4e7",
   "metadata": {},
   "outputs": [],
   "source": [
    "#chamgomh the dt of the tensors \n",
    "b = tf.constant(3.0)\n",
    "b_changes = tf.cast(b , dtype = tf.int16)"
   ]
  },
  {
   "cell_type": "code",
   "execution_count": 32,
   "id": "e7e2cbb5-66ab-402b-bb88-0052882cd8ab",
   "metadata": {},
   "outputs": [
    {
     "data": {
      "text/plain": [
       "3"
      ]
     },
     "execution_count": 32,
     "metadata": {},
     "output_type": "execute_result"
    }
   ],
   "source": [
    "b_changes.numpy()"
   ]
  },
  {
   "cell_type": "code",
   "execution_count": 33,
   "id": "ad16dfdc-b2db-4427-8eaf-e496f9634a75",
   "metadata": {},
   "outputs": [],
   "source": [
    "#now for the matrix \n",
    "c = tf.random.normal(shape=(3,3,2),dtype=tf.float32)\n",
    "c_changes = tf.cast(c , dtype= tf.int16)"
   ]
  },
  {
   "cell_type": "code",
   "execution_count": 34,
   "id": "2ea57201-14ca-4b60-b9ca-8beee654af2c",
   "metadata": {},
   "outputs": [
    {
     "data": {
      "text/plain": [
       "(<tf.Tensor: shape=(3, 3, 2), dtype=float32, numpy=\n",
       " array([[[-0.24772178, -0.2634273 ],\n",
       "         [-1.2853099 , -1.0109924 ],\n",
       "         [ 0.44478774,  0.15881398]],\n",
       " \n",
       "        [[-0.5393688 ,  0.5953197 ],\n",
       "         [-1.9483345 , -0.12836277],\n",
       "         [ 0.60093546, -0.27676448]],\n",
       " \n",
       "        [[-0.51321167,  0.8389473 ],\n",
       "         [ 0.17655647,  1.4178522 ],\n",
       "         [ 1.4637741 , -0.7697929 ]]], dtype=float32)>,\n",
       " <tf.Tensor: shape=(3, 3, 2), dtype=int16, numpy=\n",
       " array([[[ 0,  0],\n",
       "         [-1, -1],\n",
       "         [ 0,  0]],\n",
       " \n",
       "        [[ 0,  0],\n",
       "         [-1,  0],\n",
       "         [ 0,  0]],\n",
       " \n",
       "        [[ 0,  0],\n",
       "         [ 0,  1],\n",
       "         [ 1,  0]]], dtype=int16)>)"
      ]
     },
     "execution_count": 34,
     "metadata": {},
     "output_type": "execute_result"
    }
   ],
   "source": [
    "\n",
    "c ,c_changes\n"
   ]
  },
  {
   "cell_type": "markdown",
   "id": "fbdd140b-5fc3-4839-871a-0e8cca669685",
   "metadata": {},
   "source": [
    "### agregating the tensors \n",
    "\n",
    "aggregating tensors means to condensing the multple tensors to the smaller ones "
   ]
  },
  {
   "cell_type": "code",
   "execution_count": 35,
   "id": "435816a7-6869-4564-8d6d-5f5083694e84",
   "metadata": {},
   "outputs": [],
   "source": [
    "# for the absolute val \n",
    "a = tf.random.uniform(shape=(3,3) , minval=-10 , maxval=10 , dtype=tf.int32)\n",
    "a_abs = tf.abs(a)"
   ]
  },
  {
   "cell_type": "code",
   "execution_count": 36,
   "id": "3fcc4d85-2a4d-4a6a-9c92-0edf75fc5ddd",
   "metadata": {},
   "outputs": [
    {
     "data": {
      "text/plain": [
       "(<tf.Tensor: shape=(3, 3), dtype=int32, numpy=\n",
       " array([[ -8,   7,   9],\n",
       "        [ -8,   9, -10],\n",
       "        [  5,   3,  -1]], dtype=int32)>,\n",
       " <tf.Tensor: shape=(3, 3), dtype=int32, numpy=\n",
       " array([[ 8,  7,  9],\n",
       "        [ 8,  9, 10],\n",
       "        [ 5,  3,  1]], dtype=int32)>)"
      ]
     },
     "execution_count": 36,
     "metadata": {},
     "output_type": "execute_result"
    }
   ],
   "source": [
    "a,a_abs"
   ]
  },
  {
   "cell_type": "code",
   "execution_count": 37,
   "id": "17488e47-eefe-4b48-9f72-206d5026dd51",
   "metadata": {},
   "outputs": [],
   "source": [
    "#second way of making a tensor of\n",
    "import numpy as np \n",
    "x = tf.constant(np.random.randint(0,100 , size = 50))\n",
    "x_abs = tf.abs(x)"
   ]
  },
  {
   "cell_type": "code",
   "execution_count": 38,
   "id": "85831ca5-4ef2-4a0e-9cbe-0c3150a43d46",
   "metadata": {},
   "outputs": [
    {
     "data": {
      "text/plain": [
       "(<tf.Tensor: shape=(), dtype=int32, numpy=-10>,\n",
       " <tf.Tensor: shape=(), dtype=int32, numpy=9>,\n",
       " <tf.Tensor: shape=(), dtype=int32, numpy=0>)"
      ]
     },
     "execution_count": 38,
     "metadata": {},
     "output_type": "execute_result"
    }
   ],
   "source": [
    "#find the min among the tensor \n",
    "tf.reduce_min(a),tf.reduce_max(a), tf.reduce_mean(a)"
   ]
  },
  {
   "cell_type": "code",
   "execution_count": 39,
   "id": "9032be89-b71b-42ed-8f07-875a5c76f0ad",
   "metadata": {},
   "outputs": [
    {
     "data": {
      "text/plain": [
       "(<tf.Tensor: shape=(), dtype=int32, numpy=6>,\n",
       " <tf.Tensor: shape=(), dtype=int32, numpy=5443200>)"
      ]
     },
     "execution_count": 39,
     "metadata": {},
     "output_type": "execute_result"
    }
   ],
   "source": [
    "tf.reduce_sum(a) , tf.reduce_prod(a) "
   ]
  },
  {
   "cell_type": "markdown",
   "id": "c86bf23a-465b-416a-a049-752c11df27cc",
   "metadata": {},
   "source": [
    "### intro to the tfp module "
   ]
  },
  {
   "cell_type": "code",
   "execution_count": 40,
   "id": "31496a73-0dcc-44a6-8fce-4d13edcc888e",
   "metadata": {},
   "outputs": [
    {
     "name": "stdout",
     "output_type": "stream",
     "text": [
      "Requirement already satisfied: tensorflow-probability in /home/yash.sehgal/miniconda3/lib/python3.12/site-packages (0.24.0)\n",
      "Requirement already satisfied: absl-py in /home/yash.sehgal/miniconda3/lib/python3.12/site-packages (from tensorflow-probability) (2.1.0)\n",
      "Requirement already satisfied: six>=1.10.0 in /home/yash.sehgal/miniconda3/lib/python3.12/site-packages (from tensorflow-probability) (1.16.0)\n",
      "Requirement already satisfied: numpy>=1.13.3 in /home/yash.sehgal/miniconda3/lib/python3.12/site-packages (from tensorflow-probability) (1.26.4)\n",
      "Requirement already satisfied: decorator in /home/yash.sehgal/miniconda3/lib/python3.12/site-packages (from tensorflow-probability) (5.1.1)\n",
      "Requirement already satisfied: cloudpickle>=1.3 in /home/yash.sehgal/miniconda3/lib/python3.12/site-packages (from tensorflow-probability) (3.0.0)\n",
      "Requirement already satisfied: gast>=0.3.2 in /home/yash.sehgal/miniconda3/lib/python3.12/site-packages (from tensorflow-probability) (0.5.4)\n",
      "Requirement already satisfied: dm-tree in /home/yash.sehgal/miniconda3/lib/python3.12/site-packages (from tensorflow-probability) (0.1.8)\n"
     ]
    }
   ],
   "source": [
    "!pip install --upgrade tensorflow-probability"
   ]
  },
  {
   "cell_type": "code",
   "execution_count": 41,
   "id": "b252eeae-c4c0-422f-81d9-8e4afec9d2cc",
   "metadata": {},
   "outputs": [],
   "source": [
    "import tensorflow_probability as tfp\n",
    "\n"
   ]
  },
  {
   "cell_type": "code",
   "execution_count": 42,
   "id": "ffc84773-9b39-41d1-b8d2-6280ff346be5",
   "metadata": {},
   "outputs": [
    {
     "name": "stdout",
     "output_type": "stream",
     "text": [
      "Requirement already satisfied: tensorflow in /home/yash.sehgal/miniconda3/lib/python3.12/site-packages (2.16.1)\n",
      "Requirement already satisfied: absl-py>=1.0.0 in /home/yash.sehgal/miniconda3/lib/python3.12/site-packages (from tensorflow) (2.1.0)\n",
      "Requirement already satisfied: astunparse>=1.6.0 in /home/yash.sehgal/miniconda3/lib/python3.12/site-packages (from tensorflow) (1.6.3)\n",
      "Requirement already satisfied: flatbuffers>=23.5.26 in /home/yash.sehgal/miniconda3/lib/python3.12/site-packages (from tensorflow) (24.3.25)\n",
      "Requirement already satisfied: gast!=0.5.0,!=0.5.1,!=0.5.2,>=0.2.1 in /home/yash.sehgal/miniconda3/lib/python3.12/site-packages (from tensorflow) (0.5.4)\n",
      "Requirement already satisfied: google-pasta>=0.1.1 in /home/yash.sehgal/miniconda3/lib/python3.12/site-packages (from tensorflow) (0.2.0)\n",
      "Requirement already satisfied: h5py>=3.10.0 in /home/yash.sehgal/miniconda3/lib/python3.12/site-packages (from tensorflow) (3.10.0)\n",
      "Requirement already satisfied: libclang>=13.0.0 in /home/yash.sehgal/miniconda3/lib/python3.12/site-packages (from tensorflow) (18.1.1)\n",
      "Requirement already satisfied: ml-dtypes~=0.3.1 in /home/yash.sehgal/miniconda3/lib/python3.12/site-packages (from tensorflow) (0.3.2)\n",
      "Requirement already satisfied: opt-einsum>=2.3.2 in /home/yash.sehgal/miniconda3/lib/python3.12/site-packages (from tensorflow) (3.3.0)\n",
      "Requirement already satisfied: packaging in /home/yash.sehgal/miniconda3/lib/python3.12/site-packages (from tensorflow) (23.1)\n",
      "Requirement already satisfied: protobuf!=4.21.0,!=4.21.1,!=4.21.2,!=4.21.3,!=4.21.4,!=4.21.5,<5.0.0dev,>=3.20.3 in /home/yash.sehgal/miniconda3/lib/python3.12/site-packages (from tensorflow) (4.25.3)\n",
      "Requirement already satisfied: requests<3,>=2.21.0 in /home/yash.sehgal/miniconda3/lib/python3.12/site-packages (from tensorflow) (2.31.0)\n",
      "Requirement already satisfied: setuptools in /home/yash.sehgal/miniconda3/lib/python3.12/site-packages (from tensorflow) (68.2.2)\n",
      "Requirement already satisfied: six>=1.12.0 in /home/yash.sehgal/miniconda3/lib/python3.12/site-packages (from tensorflow) (1.16.0)\n",
      "Requirement already satisfied: termcolor>=1.1.0 in /home/yash.sehgal/miniconda3/lib/python3.12/site-packages (from tensorflow) (2.4.0)\n",
      "Requirement already satisfied: typing-extensions>=3.6.6 in /home/yash.sehgal/miniconda3/lib/python3.12/site-packages (from tensorflow) (4.9.0)\n",
      "Requirement already satisfied: wrapt>=1.11.0 in /home/yash.sehgal/miniconda3/lib/python3.12/site-packages (from tensorflow) (1.16.0)\n",
      "Requirement already satisfied: grpcio<2.0,>=1.24.3 in /home/yash.sehgal/miniconda3/lib/python3.12/site-packages (from tensorflow) (1.62.1)\n",
      "Requirement already satisfied: tensorboard<2.17,>=2.16 in /home/yash.sehgal/miniconda3/lib/python3.12/site-packages (from tensorflow) (2.16.2)\n",
      "Requirement already satisfied: keras>=3.0.0 in /home/yash.sehgal/miniconda3/lib/python3.12/site-packages (from tensorflow) (3.1.1)\n",
      "Requirement already satisfied: numpy<2.0.0,>=1.26.0 in /home/yash.sehgal/miniconda3/lib/python3.12/site-packages (from tensorflow) (1.26.4)\n",
      "Requirement already satisfied: wheel<1.0,>=0.23.0 in /home/yash.sehgal/miniconda3/lib/python3.12/site-packages (from astunparse>=1.6.0->tensorflow) (0.41.2)\n",
      "Requirement already satisfied: rich in /home/yash.sehgal/miniconda3/lib/python3.12/site-packages (from keras>=3.0.0->tensorflow) (13.7.1)\n",
      "Requirement already satisfied: namex in /home/yash.sehgal/miniconda3/lib/python3.12/site-packages (from keras>=3.0.0->tensorflow) (0.0.7)\n",
      "Requirement already satisfied: optree in /home/yash.sehgal/miniconda3/lib/python3.12/site-packages (from keras>=3.0.0->tensorflow) (0.11.0)\n",
      "Requirement already satisfied: charset-normalizer<4,>=2 in /home/yash.sehgal/miniconda3/lib/python3.12/site-packages (from requests<3,>=2.21.0->tensorflow) (2.0.4)\n",
      "Requirement already satisfied: idna<4,>=2.5 in /home/yash.sehgal/miniconda3/lib/python3.12/site-packages (from requests<3,>=2.21.0->tensorflow) (3.4)\n",
      "Requirement already satisfied: urllib3<3,>=1.21.1 in /home/yash.sehgal/miniconda3/lib/python3.12/site-packages (from requests<3,>=2.21.0->tensorflow) (2.1.0)\n",
      "Requirement already satisfied: certifi>=2017.4.17 in /home/yash.sehgal/miniconda3/lib/python3.12/site-packages (from requests<3,>=2.21.0->tensorflow) (2024.2.2)\n",
      "Requirement already satisfied: markdown>=2.6.8 in /home/yash.sehgal/miniconda3/lib/python3.12/site-packages (from tensorboard<2.17,>=2.16->tensorflow) (3.6)\n",
      "Requirement already satisfied: tensorboard-data-server<0.8.0,>=0.7.0 in /home/yash.sehgal/miniconda3/lib/python3.12/site-packages (from tensorboard<2.17,>=2.16->tensorflow) (0.7.2)\n",
      "Requirement already satisfied: werkzeug>=1.0.1 in /home/yash.sehgal/miniconda3/lib/python3.12/site-packages (from tensorboard<2.17,>=2.16->tensorflow) (3.0.1)\n",
      "Requirement already satisfied: MarkupSafe>=2.1.1 in /home/yash.sehgal/miniconda3/lib/python3.12/site-packages (from werkzeug>=1.0.1->tensorboard<2.17,>=2.16->tensorflow) (2.1.3)\n",
      "Requirement already satisfied: markdown-it-py>=2.2.0 in /home/yash.sehgal/miniconda3/lib/python3.12/site-packages (from rich->keras>=3.0.0->tensorflow) (3.0.0)\n",
      "Requirement already satisfied: pygments<3.0.0,>=2.13.0 in /home/yash.sehgal/miniconda3/lib/python3.12/site-packages (from rich->keras>=3.0.0->tensorflow) (2.15.1)\n",
      "Requirement already satisfied: mdurl~=0.1 in /home/yash.sehgal/miniconda3/lib/python3.12/site-packages (from markdown-it-py>=2.2.0->rich->keras>=3.0.0->tensorflow) (0.1.2)\n"
     ]
    }
   ],
   "source": [
    "!pip install --upgrade tensorflow \n"
   ]
  },
  {
   "cell_type": "code",
   "execution_count": 43,
   "id": "cd4a363b-d87a-4c6b-9b0a-0ac85ed547c4",
   "metadata": {},
   "outputs": [],
   "source": [
    "import tensorflow as tf\n",
    "import tensorflow_probability as tfp"
   ]
  },
  {
   "cell_type": "code",
   "execution_count": 44,
   "id": "8cd3a09a-bb52-437b-982d-d9c1c9465d70",
   "metadata": {},
   "outputs": [
    {
     "name": "stdout",
     "output_type": "stream",
     "text": [
      "Requirement already satisfied: tf-keras~=2.16 in /home/yash.sehgal/miniconda3/lib/python3.12/site-packages (2.16.0)\n",
      "Requirement already satisfied: tensorflow<2.17,>=2.16 in /home/yash.sehgal/miniconda3/lib/python3.12/site-packages (from tf-keras~=2.16) (2.16.1)\n",
      "Requirement already satisfied: absl-py>=1.0.0 in /home/yash.sehgal/miniconda3/lib/python3.12/site-packages (from tensorflow<2.17,>=2.16->tf-keras~=2.16) (2.1.0)\n",
      "Requirement already satisfied: astunparse>=1.6.0 in /home/yash.sehgal/miniconda3/lib/python3.12/site-packages (from tensorflow<2.17,>=2.16->tf-keras~=2.16) (1.6.3)\n",
      "Requirement already satisfied: flatbuffers>=23.5.26 in /home/yash.sehgal/miniconda3/lib/python3.12/site-packages (from tensorflow<2.17,>=2.16->tf-keras~=2.16) (24.3.25)\n",
      "Requirement already satisfied: gast!=0.5.0,!=0.5.1,!=0.5.2,>=0.2.1 in /home/yash.sehgal/miniconda3/lib/python3.12/site-packages (from tensorflow<2.17,>=2.16->tf-keras~=2.16) (0.5.4)\n",
      "Requirement already satisfied: google-pasta>=0.1.1 in /home/yash.sehgal/miniconda3/lib/python3.12/site-packages (from tensorflow<2.17,>=2.16->tf-keras~=2.16) (0.2.0)\n",
      "Requirement already satisfied: h5py>=3.10.0 in /home/yash.sehgal/miniconda3/lib/python3.12/site-packages (from tensorflow<2.17,>=2.16->tf-keras~=2.16) (3.10.0)\n",
      "Requirement already satisfied: libclang>=13.0.0 in /home/yash.sehgal/miniconda3/lib/python3.12/site-packages (from tensorflow<2.17,>=2.16->tf-keras~=2.16) (18.1.1)\n",
      "Requirement already satisfied: ml-dtypes~=0.3.1 in /home/yash.sehgal/miniconda3/lib/python3.12/site-packages (from tensorflow<2.17,>=2.16->tf-keras~=2.16) (0.3.2)\n",
      "Requirement already satisfied: opt-einsum>=2.3.2 in /home/yash.sehgal/miniconda3/lib/python3.12/site-packages (from tensorflow<2.17,>=2.16->tf-keras~=2.16) (3.3.0)\n",
      "Requirement already satisfied: packaging in /home/yash.sehgal/miniconda3/lib/python3.12/site-packages (from tensorflow<2.17,>=2.16->tf-keras~=2.16) (23.1)\n",
      "Requirement already satisfied: protobuf!=4.21.0,!=4.21.1,!=4.21.2,!=4.21.3,!=4.21.4,!=4.21.5,<5.0.0dev,>=3.20.3 in /home/yash.sehgal/miniconda3/lib/python3.12/site-packages (from tensorflow<2.17,>=2.16->tf-keras~=2.16) (4.25.3)\n",
      "Requirement already satisfied: requests<3,>=2.21.0 in /home/yash.sehgal/miniconda3/lib/python3.12/site-packages (from tensorflow<2.17,>=2.16->tf-keras~=2.16) (2.31.0)\n",
      "Requirement already satisfied: setuptools in /home/yash.sehgal/miniconda3/lib/python3.12/site-packages (from tensorflow<2.17,>=2.16->tf-keras~=2.16) (68.2.2)\n",
      "Requirement already satisfied: six>=1.12.0 in /home/yash.sehgal/miniconda3/lib/python3.12/site-packages (from tensorflow<2.17,>=2.16->tf-keras~=2.16) (1.16.0)\n",
      "Requirement already satisfied: termcolor>=1.1.0 in /home/yash.sehgal/miniconda3/lib/python3.12/site-packages (from tensorflow<2.17,>=2.16->tf-keras~=2.16) (2.4.0)\n",
      "Requirement already satisfied: typing-extensions>=3.6.6 in /home/yash.sehgal/miniconda3/lib/python3.12/site-packages (from tensorflow<2.17,>=2.16->tf-keras~=2.16) (4.9.0)\n",
      "Requirement already satisfied: wrapt>=1.11.0 in /home/yash.sehgal/miniconda3/lib/python3.12/site-packages (from tensorflow<2.17,>=2.16->tf-keras~=2.16) (1.16.0)\n",
      "Requirement already satisfied: grpcio<2.0,>=1.24.3 in /home/yash.sehgal/miniconda3/lib/python3.12/site-packages (from tensorflow<2.17,>=2.16->tf-keras~=2.16) (1.62.1)\n",
      "Requirement already satisfied: tensorboard<2.17,>=2.16 in /home/yash.sehgal/miniconda3/lib/python3.12/site-packages (from tensorflow<2.17,>=2.16->tf-keras~=2.16) (2.16.2)\n",
      "Requirement already satisfied: keras>=3.0.0 in /home/yash.sehgal/miniconda3/lib/python3.12/site-packages (from tensorflow<2.17,>=2.16->tf-keras~=2.16) (3.1.1)\n",
      "Requirement already satisfied: numpy<2.0.0,>=1.26.0 in /home/yash.sehgal/miniconda3/lib/python3.12/site-packages (from tensorflow<2.17,>=2.16->tf-keras~=2.16) (1.26.4)\n",
      "Requirement already satisfied: wheel<1.0,>=0.23.0 in /home/yash.sehgal/miniconda3/lib/python3.12/site-packages (from astunparse>=1.6.0->tensorflow<2.17,>=2.16->tf-keras~=2.16) (0.41.2)\n",
      "Requirement already satisfied: rich in /home/yash.sehgal/miniconda3/lib/python3.12/site-packages (from keras>=3.0.0->tensorflow<2.17,>=2.16->tf-keras~=2.16) (13.7.1)\n",
      "Requirement already satisfied: namex in /home/yash.sehgal/miniconda3/lib/python3.12/site-packages (from keras>=3.0.0->tensorflow<2.17,>=2.16->tf-keras~=2.16) (0.0.7)\n",
      "Requirement already satisfied: optree in /home/yash.sehgal/miniconda3/lib/python3.12/site-packages (from keras>=3.0.0->tensorflow<2.17,>=2.16->tf-keras~=2.16) (0.11.0)\n",
      "Requirement already satisfied: charset-normalizer<4,>=2 in /home/yash.sehgal/miniconda3/lib/python3.12/site-packages (from requests<3,>=2.21.0->tensorflow<2.17,>=2.16->tf-keras~=2.16) (2.0.4)\n",
      "Requirement already satisfied: idna<4,>=2.5 in /home/yash.sehgal/miniconda3/lib/python3.12/site-packages (from requests<3,>=2.21.0->tensorflow<2.17,>=2.16->tf-keras~=2.16) (3.4)\n",
      "Requirement already satisfied: urllib3<3,>=1.21.1 in /home/yash.sehgal/miniconda3/lib/python3.12/site-packages (from requests<3,>=2.21.0->tensorflow<2.17,>=2.16->tf-keras~=2.16) (2.1.0)\n",
      "Requirement already satisfied: certifi>=2017.4.17 in /home/yash.sehgal/miniconda3/lib/python3.12/site-packages (from requests<3,>=2.21.0->tensorflow<2.17,>=2.16->tf-keras~=2.16) (2024.2.2)\n",
      "Requirement already satisfied: markdown>=2.6.8 in /home/yash.sehgal/miniconda3/lib/python3.12/site-packages (from tensorboard<2.17,>=2.16->tensorflow<2.17,>=2.16->tf-keras~=2.16) (3.6)\n",
      "Requirement already satisfied: tensorboard-data-server<0.8.0,>=0.7.0 in /home/yash.sehgal/miniconda3/lib/python3.12/site-packages (from tensorboard<2.17,>=2.16->tensorflow<2.17,>=2.16->tf-keras~=2.16) (0.7.2)\n",
      "Requirement already satisfied: werkzeug>=1.0.1 in /home/yash.sehgal/miniconda3/lib/python3.12/site-packages (from tensorboard<2.17,>=2.16->tensorflow<2.17,>=2.16->tf-keras~=2.16) (3.0.1)\n",
      "Requirement already satisfied: MarkupSafe>=2.1.1 in /home/yash.sehgal/miniconda3/lib/python3.12/site-packages (from werkzeug>=1.0.1->tensorboard<2.17,>=2.16->tensorflow<2.17,>=2.16->tf-keras~=2.16) (2.1.3)\n",
      "Requirement already satisfied: markdown-it-py>=2.2.0 in /home/yash.sehgal/miniconda3/lib/python3.12/site-packages (from rich->keras>=3.0.0->tensorflow<2.17,>=2.16->tf-keras~=2.16) (3.0.0)\n",
      "Requirement already satisfied: pygments<3.0.0,>=2.13.0 in /home/yash.sehgal/miniconda3/lib/python3.12/site-packages (from rich->keras>=3.0.0->tensorflow<2.17,>=2.16->tf-keras~=2.16) (2.15.1)\n",
      "Requirement already satisfied: mdurl~=0.1 in /home/yash.sehgal/miniconda3/lib/python3.12/site-packages (from markdown-it-py>=2.2.0->rich->keras>=3.0.0->tensorflow<2.17,>=2.16->tf-keras~=2.16) (0.1.2)\n",
      "Note: you may need to restart the kernel to use updated packages.\n"
     ]
    }
   ],
   "source": [
    "pip install tf-keras~=2.16"
   ]
  },
  {
   "cell_type": "code",
   "execution_count": 45,
   "id": "2e3ca0da-dfbb-43a0-bc1f-eb5a625c5e22",
   "metadata": {},
   "outputs": [
    {
     "name": "stdout",
     "output_type": "stream",
     "text": [
      "\u001b[31mERROR: Invalid requirement: '~=2.16'\u001b[0m\u001b[31m\n",
      "\u001b[0mNote: you may need to restart the kernel to use updated packages.\n"
     ]
    }
   ],
   "source": [
    "pip install tensorflow ~=2.16"
   ]
  },
  {
   "cell_type": "code",
   "execution_count": 46,
   "id": "e0d397aa-db84-4742-8581-992150fa8dc7",
   "metadata": {},
   "outputs": [],
   "source": [
    "import tensorflow_probability as tfp"
   ]
  },
  {
   "cell_type": "code",
   "execution_count": 47,
   "id": "4cfbf55f-b0e1-46c1-952d-880a211f2a92",
   "metadata": {},
   "outputs": [
    {
     "data": {
      "text/plain": [
       "<tf.Tensor: shape=(), dtype=float32, numpy=7.2264943>"
      ]
     },
     "execution_count": 47,
     "metadata": {},
     "output_type": "execute_result"
    }
   ],
   "source": [
    "tf.math.reduce_std(tf.cast(a , dtype=tf.float32))"
   ]
  },
  {
   "cell_type": "code",
   "execution_count": 48,
   "id": "9f5dd8b1-d716-4c8e-9330-294e9253f386",
   "metadata": {},
   "outputs": [
    {
     "data": {
      "text/plain": [
       "<tf.Tensor: shape=(10,), dtype=int64, numpy=array([9, 4, 5, 3, 9, 7, 7, 8, 1, 5])>"
      ]
     },
     "execution_count": 48,
     "metadata": {},
     "output_type": "execute_result"
    }
   ],
   "source": [
    "temp_tens = tf.constant(np.random.randint(1 , 10 , size = (10)))\n",
    "temp_tens"
   ]
  },
  {
   "cell_type": "code",
   "execution_count": 49,
   "id": "53571d71-9dab-4e7a-81e2-d641e7f97c0a",
   "metadata": {},
   "outputs": [
    {
     "data": {
      "text/plain": [
       "<tf.Tensor: shape=(), dtype=int64, numpy=9>"
      ]
     },
     "execution_count": 49,
     "metadata": {},
     "output_type": "execute_result"
    }
   ],
   "source": [
    "#checking the pos of the max element of the tensor \n",
    "pos = tf.argmax(temp_tens)\n",
    "temp_tens[pos]"
   ]
  },
  {
   "cell_type": "code",
   "execution_count": 50,
   "id": "bc94089d-e403-4e89-9e31-e5041e108679",
   "metadata": {},
   "outputs": [],
   "source": [
    "# for squeezing a tensor or removing all single dim \n",
    "G = tf.constant(tf.random.uniform(shape=[2,2,2,2]),shape=(2,2,2,2))"
   ]
  },
  {
   "cell_type": "code",
   "execution_count": 51,
   "id": "0eb7782f-243a-4ee8-8f66-fed7d81c7cfe",
   "metadata": {},
   "outputs": [
    {
     "data": {
      "text/plain": [
       "TensorShape([2, 2, 2, 2])"
      ]
     },
     "execution_count": 51,
     "metadata": {},
     "output_type": "execute_result"
    }
   ],
   "source": [
    "G.shape"
   ]
  },
  {
   "cell_type": "code",
   "execution_count": 52,
   "id": "4fe5fdd7-5149-4371-a301-79fb18356c25",
   "metadata": {},
   "outputs": [
    {
     "data": {
      "text/plain": [
       "(<tf.Tensor: shape=(2, 2, 2, 2), dtype=float32, numpy=\n",
       " array([[[[0.69933176, 0.5757654 ],\n",
       "          [0.7272731 , 0.09633338]],\n",
       " \n",
       "         [[0.43302226, 0.06456316],\n",
       "          [0.3679061 , 0.8100581 ]]],\n",
       " \n",
       " \n",
       "        [[[0.9801177 , 0.58972096],\n",
       "          [0.15165782, 0.04187167]],\n",
       " \n",
       "         [[0.9959612 , 0.29952478],\n",
       "          [0.67613363, 0.18008268]]]], dtype=float32)>,\n",
       " TensorShape([2, 2, 2, 2]))"
      ]
     },
     "execution_count": 52,
     "metadata": {},
     "output_type": "execute_result"
    }
   ],
   "source": [
    "G_sqz = tf.squeeze(G)\n",
    "\n",
    "G , G_sqz.shape\n"
   ]
  },
  {
   "cell_type": "markdown",
   "id": "f5507ff8-f866-49d4-8a1c-99f1c4b0a673",
   "metadata": {},
   "source": [
    "### ONE HOT ENDCODING TENSOR"
   ]
  },
  {
   "cell_type": "code",
   "execution_count": 53,
   "id": "67c898db-6275-4034-900d-89d57b8dc26f",
   "metadata": {},
   "outputs": [
    {
     "data": {
      "text/plain": [
       "<tf.Tensor: shape=(4, 4), dtype=float32, numpy=\n",
       "array([[0., 1., 0., 0.],\n",
       "       [0., 0., 1., 0.],\n",
       "       [0., 0., 0., 1.],\n",
       "       [0., 0., 0., 0.]], dtype=float32)>"
      ]
     },
     "execution_count": 53,
     "metadata": {},
     "output_type": "execute_result"
    }
   ],
   "source": [
    "#implementing one hot tensors \n",
    "name = [1,2,3,4]\n",
    "tf.one_hot(name , 4)"
   ]
  },
  {
   "cell_type": "code",
   "execution_count": 54,
   "id": "9027ed05-0a5e-48dd-a2dc-5fba948a9647",
   "metadata": {},
   "outputs": [
    {
     "data": {
      "text/plain": [
       "<tf.Tensor: shape=(4, 4), dtype=string, numpy=\n",
       "array([[b'flase', b'true', b'flase', b'flase'],\n",
       "       [b'flase', b'flase', b'true', b'flase'],\n",
       "       [b'flase', b'flase', b'flase', b'true'],\n",
       "       [b'flase', b'flase', b'flase', b'flase']], dtype=object)>"
      ]
     },
     "execution_count": 54,
     "metadata": {},
     "output_type": "execute_result"
    }
   ],
   "source": [
    "\n",
    "#specifying the default val \n",
    "tf.one_hot(name , 4 ,on_value=\"true\" , off_value=\"flase\")"
   ]
  },
  {
   "cell_type": "code",
   "execution_count": 57,
   "id": "1ab638ea-83c1-42b5-9b22-36f2dbbe9395",
   "metadata": {},
   "outputs": [
    {
     "data": {
      "text/plain": [
       "(<tf.Tensor: shape=(9,), dtype=float32, numpy=\n",
       " array([1.       , 1.4142135, 1.7320508, 2.       , 2.236068 , 2.4494898,\n",
       "        2.6457512, 2.828427 , 3.       ], dtype=float32)>,\n",
       " <tf.Tensor: shape=(9,), dtype=int32, numpy=array([ 1,  4,  9, 16, 25, 36, 49, 64, 81], dtype=int32)>)"
      ]
     },
     "execution_count": 57,
     "metadata": {},
     "output_type": "execute_result"
    }
   ],
   "source": [
    "#using the more math func \n",
    "range =tf.range(1,10)\n",
    "tf.sqrt(tf.cast(range,dtype=tf.float32)),tf.square(range)"
   ]
  },
  {
   "cell_type": "markdown",
   "id": "4e8c1af8-9c52-4cdd-a816-8b9c5c4f30fa",
   "metadata": {},
   "source": [
    "### tensors and numpy "
   ]
  },
  {
   "cell_type": "code",
   "execution_count": 65,
   "id": "b5733083-2af1-4967-ae31-c82d39af5657",
   "metadata": {},
   "outputs": [
    {
     "data": {
      "text/plain": [
       "(tensorflow.python.framework.ops.EagerTensor, tf.int64)"
      ]
     },
     "execution_count": 65,
     "metadata": {},
     "output_type": "execute_result"
    }
   ],
   "source": [
    "#using the tensor \n",
    "J = tf.constant(np.array([111,2,3]))\n",
    "type(J) ,J.dtype"
   ]
  },
  {
   "cell_type": "code",
   "execution_count": 67,
   "id": "3ff430de-431d-49eb-a3f4-c016ac124dcb",
   "metadata": {},
   "outputs": [
    {
     "data": {
      "text/plain": [
       "(numpy.ndarray, dtype('int64'))"
      ]
     },
     "execution_count": 67,
     "metadata": {},
     "output_type": "execute_result"
    }
   ],
   "source": [
    "J = np.array(J)\n",
    "N = tf.constant\n",
    "type(J),J.dtype\n",
    "##this shows theconversion from np to tensor and vicevesa \n"
   ]
  },
  {
   "cell_type": "code",
   "execution_count": 70,
   "id": "dd5cafd1-7d56-4db7-94d6-b9880e628fa5",
   "metadata": {},
   "outputs": [
    {
     "data": {
      "text/plain": [
       "[PhysicalDevice(name='/physical_device:CPU:0', device_type='CPU')]"
      ]
     },
     "execution_count": 70,
     "metadata": {},
     "output_type": "execute_result"
    }
   ],
   "source": [
    "#finding gpu access \n",
    "tf.config.list_physical_devices()\n"
   ]
  },
  {
   "cell_type": "code",
   "execution_count": null,
   "id": "c9c71ff9-1804-42f6-a912-cca8189eeb8b",
   "metadata": {},
   "outputs": [],
   "source": [
    "for accessing the gpu we'll switch to google colab   "
   ]
  },
  {
   "cell_type": "code",
   "execution_count": 87,
   "id": "b5c34562-c502-4790-86d8-b19e6785d26a",
   "metadata": {},
   "outputs": [
    {
     "ename": "TypeError",
     "evalue": "Dtype of argument `keys` must be <dtype: 'int32'>, received: <dtype: 'string'>",
     "output_type": "error",
     "traceback": [
      "\u001b[0;31m---------------------------------------------------------------------------\u001b[0m",
      "\u001b[0;31mTypeError\u001b[0m                                 Traceback (most recent call last)",
      "Cell \u001b[0;32mIn[87], line 18\u001b[0m\n\u001b[1;32m     15\u001b[0m table \u001b[38;5;241m=\u001b[39m tf\u001b[38;5;241m.\u001b[39mlookup\u001b[38;5;241m.\u001b[39mStaticHashTable(init, default_value\u001b[38;5;241m=\u001b[39m\u001b[38;5;28mstr\u001b[39m(\u001b[38;5;124m'\u001b[39m\u001b[38;5;124m-1\u001b[39m\u001b[38;5;124m'\u001b[39m))\n\u001b[1;32m     17\u001b[0m \u001b[38;5;66;03m# Perform lookup\u001b[39;00m\n\u001b[0;32m---> 18\u001b[0m result \u001b[38;5;241m=\u001b[39m table\u001b[38;5;241m.\u001b[39mlookup(tens_input)\n\u001b[1;32m     20\u001b[0m \u001b[38;5;28mprint\u001b[39m(result\u001b[38;5;241m.\u001b[39mnumpy())\n",
      "File \u001b[0;32m~/miniconda3/lib/python3.12/site-packages/tensorflow/python/ops/lookup_ops.py:253\u001b[0m, in \u001b[0;36mInitializableLookupTableBase.lookup\u001b[0;34m(self, keys, name)\u001b[0m\n\u001b[1;32m    250\u001b[0m   key_tensor \u001b[38;5;241m=\u001b[39m keys\u001b[38;5;241m.\u001b[39mvalues\n\u001b[1;32m    252\u001b[0m \u001b[38;5;28;01mif\u001b[39;00m keys\u001b[38;5;241m.\u001b[39mdtype\u001b[38;5;241m.\u001b[39mbase_dtype \u001b[38;5;241m!=\u001b[39m \u001b[38;5;28mself\u001b[39m\u001b[38;5;241m.\u001b[39m_key_dtype:\n\u001b[0;32m--> 253\u001b[0m   \u001b[38;5;28;01mraise\u001b[39;00m \u001b[38;5;167;01mTypeError\u001b[39;00m(\u001b[38;5;124mf\u001b[39m\u001b[38;5;124m\"\u001b[39m\u001b[38;5;124mDtype of argument `keys` must be \u001b[39m\u001b[38;5;132;01m{\u001b[39;00m\u001b[38;5;28mself\u001b[39m\u001b[38;5;241m.\u001b[39m_key_dtype\u001b[38;5;132;01m}\u001b[39;00m\u001b[38;5;124m, \u001b[39m\u001b[38;5;124m\"\u001b[39m\n\u001b[1;32m    254\u001b[0m                   \u001b[38;5;124mf\u001b[39m\u001b[38;5;124m\"\u001b[39m\u001b[38;5;124mreceived: \u001b[39m\u001b[38;5;132;01m{\u001b[39;00mkeys\u001b[38;5;241m.\u001b[39mdtype\u001b[38;5;132;01m}\u001b[39;00m\u001b[38;5;124m\"\u001b[39m)\n\u001b[1;32m    256\u001b[0m \u001b[38;5;28;01mwith\u001b[39;00m ops\u001b[38;5;241m.\u001b[39mname_scope(\n\u001b[1;32m    257\u001b[0m     name, \u001b[38;5;124m\"\u001b[39m\u001b[38;5;132;01m%s\u001b[39;00m\u001b[38;5;124m_Lookup\u001b[39m\u001b[38;5;124m\"\u001b[39m \u001b[38;5;241m%\u001b[39m \u001b[38;5;28mself\u001b[39m\u001b[38;5;241m.\u001b[39mname,\n\u001b[1;32m    258\u001b[0m     (\u001b[38;5;28mself\u001b[39m\u001b[38;5;241m.\u001b[39mresource_handle, key_tensor, \u001b[38;5;28mself\u001b[39m\u001b[38;5;241m.\u001b[39m_default_value)):\n\u001b[1;32m    259\u001b[0m   values \u001b[38;5;241m=\u001b[39m gen_lookup_ops\u001b[38;5;241m.\u001b[39mlookup_table_find_v2(\u001b[38;5;28mself\u001b[39m\u001b[38;5;241m.\u001b[39mresource_handle,\n\u001b[1;32m    260\u001b[0m                                                key_tensor,\n\u001b[1;32m    261\u001b[0m                                                \u001b[38;5;28mself\u001b[39m\u001b[38;5;241m.\u001b[39m_default_value)\n",
      "\u001b[0;31mTypeError\u001b[0m: Dtype of argument `keys` must be <dtype: 'int32'>, received: <dtype: 'string'>"
     ]
    }
   ],
   "source": [
    "#using the lookup \n",
    "import tensorflow as tf\n",
    "\n",
    "# Define the constant tensors for keys and values\n",
    "tens_key = tf.constant([1, 2, 3])\n",
    "tens_val = tf.constant(['a', 'b', 'c'])\n",
    "\n",
    "# Define the input tensor\n",
    "tens_input = tf.constant(['b', 'z'])\n",
    "\n",
    "# Create a KeyValueTensorInitializer to initialize the StaticHashTable\n",
    "init = tf.lookup.KeyValueTensorInitializer(tens_key, tens_val)\n",
    "\n",
    "# Create a StaticHashTable with the initializer and a default value of -1\n",
    "table = tf.lookup.StaticHashTable(init, default_value=str(-1))\n",
    "\n",
    "# Perform lookup\n",
    "result = table.lookup(tens_input)\n",
    "\n",
    "print(result.numpy())     "
   ]
  },
  {
   "cell_type": "code",
   "execution_count": 77,
   "id": "fdf8a82e-f1c4-4ed4-9cb2-f775c29394e9",
   "metadata": {},
   "outputs": [
    {
     "data": {
      "text/plain": [
       "array([ 7, -1], dtype=int32)"
      ]
     },
     "execution_count": 77,
     "metadata": {},
     "output_type": "execute_result"
    }
   ],
   "source": [
    "vals_tensor = tf.constant(['a', 'b', 'c'])\n",
    "vals_tensor = tf.constant([7, 8, 9])\n",
    "input_tensor = tf.constant(['a', 'f'])\n",
    "init = tf.lookup.KeyValueTensorInitializer(keys_tensor, vals_tensor)\n",
    "table = tf.lookup.StaticHashTable(\n",
    "    init,\n",
    "    default_value=-1)\n",
    "table.lookup(input_tensor).numpy()\n"
   ]
  },
  {
   "cell_type": "code",
   "execution_count": null,
   "id": "de971376-4bfe-4c63-ba28-7581572f1036",
   "metadata": {},
   "outputs": [],
   "source": []
  },
  {
   "cell_type": "code",
   "execution_count": null,
   "id": "a82a10bd-a349-41ac-ab70-b1a96337d3bf",
   "metadata": {},
   "outputs": [],
   "source": []
  }
 ],
 "metadata": {
  "kernelspec": {
   "display_name": "Python 3 (ipykernel)",
   "language": "python",
   "name": "python3"
  },
  "language_info": {
   "codemirror_mode": {
    "name": "ipython",
    "version": 3
   },
   "file_extension": ".py",
   "mimetype": "text/x-python",
   "name": "python",
   "nbconvert_exporter": "python",
   "pygments_lexer": "ipython3",
   "version": "3.12.1"
  }
 },
 "nbformat": 4,
 "nbformat_minor": 5
}
