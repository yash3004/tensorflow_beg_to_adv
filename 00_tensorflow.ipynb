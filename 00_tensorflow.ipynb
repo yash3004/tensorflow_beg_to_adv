{
 "cells": [
  {
   "cell_type": "code",
   "execution_count": 2,
   "id": "364c7d9f-4cb5-4ece-9196-dc3eeeddfe7c",
   "metadata": {},
   "outputs": [
    {
     "name": "stderr",
     "output_type": "stream",
     "text": [
      "2024-03-27 10:59:58.945466: E external/local_xla/xla/stream_executor/cuda/cuda_dnn.cc:9261] Unable to register cuDNN factory: Attempting to register factory for plugin cuDNN when one has already been registered\n",
      "2024-03-27 10:59:58.945683: E external/local_xla/xla/stream_executor/cuda/cuda_fft.cc:607] Unable to register cuFFT factory: Attempting to register factory for plugin cuFFT when one has already been registered\n",
      "2024-03-27 10:59:59.146448: E external/local_xla/xla/stream_executor/cuda/cuda_blas.cc:1515] Unable to register cuBLAS factory: Attempting to register factory for plugin cuBLAS when one has already been registered\n",
      "2024-03-27 10:59:59.627091: I tensorflow/core/platform/cpu_feature_guard.cc:182] This TensorFlow binary is optimized to use available CPU instructions in performance-critical operations.\n",
      "To enable the following instructions: AVX2 FMA, in other operations, rebuild TensorFlow with the appropriate compiler flags.\n",
      "2024-03-27 11:00:04.660345: W tensorflow/compiler/tf2tensorrt/utils/py_utils.cc:38] TF-TRT Warning: Could not find TensorRT\n"
     ]
    }
   ],
   "source": [
    "import tensorflow as tf "
   ]
  },
  {
   "cell_type": "markdown",
   "id": "b5280750-c919-434f-86c7-a8c7830b38e7",
   "metadata": {},
   "source": [
    "### lets statty lrstning  the tensorflow more clrearly then evner \n",
    "\n"
   ]
  },
  {
   "cell_type": "code",
   "execution_count": 3,
   "id": "e5713704-53e6-4ec9-b864-d221d88fda29",
   "metadata": {},
   "outputs": [
    {
     "name": "stdout",
     "output_type": "stream",
     "text": [
      "tf.Tensor(\n",
      "[[4 5]\n",
      " [6 7]], shape=(2, 2), dtype=int32) tf.Tensor(\n",
      "[[ 2  1]\n",
      " [ 0 -1]], shape=(2, 2), dtype=int32) tf.Tensor(\n",
      "[[ 3  6]\n",
      " [ 9 12]], shape=(2, 2), dtype=int32) tf.Tensor(\n",
      "[[0.33333333 0.66666667]\n",
      " [1.         1.33333333]], shape=(2, 2), dtype=float64)\n"
     ]
    }
   ],
   "source": [
    "### from this we got to knwo matrix / tendors with similar shapes can be multiplied and div \n",
    "#tensors are created by the tf.constant\n",
    "#init a tf.constant \n",
    "a = tf.constant([1,2,3,4] , shape=(2,2))\n",
    "b= tf.constant(3)\n",
    "print(a+b , b-a , a*b , a/b)"
   ]
  },
  {
   "cell_type": "code",
   "execution_count": 4,
   "id": "f1b29232-765c-4920-b025-f6a19ed1f96f",
   "metadata": {},
   "outputs": [
    {
     "data": {
      "text/plain": [
       "<tf.Tensor: shape=(3, 2, 3), dtype=float64, numpy=\n",
       "array([[[1.3, 2.3, 3.3],\n",
       "        [4.3, 5.4, 6.3]],\n",
       "\n",
       "       [[5.4, 3.4, 0.4],\n",
       "        [0.6, 1.3, 2.3]],\n",
       "\n",
       "       [[3.3, 4.3, 5.4],\n",
       "        [6.3, 5.4, 3.4]]])>"
      ]
     },
     "execution_count": 4,
     "metadata": {},
     "output_type": "execute_result"
    }
   ],
   "source": [
    "#specifying the datatype \n",
    "c = tf.constant([1.3 , 2.3 , 3.3 , 4.3 , 5.4 , 6.3 ,5.4, 3.4 ,.4, .6,1.3 , 2.3 , 3.3 , 4.3 , 5.4 , 6.3 ,5.4, 3.4 ] ,dtype = tf.float64 ,shape=(3,2,3))\n",
    "c"
   ]
  },
  {
   "cell_type": "code",
   "execution_count": 5,
   "id": "f2801137-86fd-4d6e-9aa7-58f2625f51c5",
   "metadata": {},
   "outputs": [
    {
     "data": {
      "text/plain": [
       "<tf.Variable 'UnreadVariable' shape=(4,) dtype=int32, numpy=array([3, 2, 3, 4], dtype=int32)>"
      ]
     },
     "execution_count": 5,
     "metadata": {},
     "output_type": "execute_result"
    }
   ],
   "source": [
    "##using the variable \n",
    "\n",
    "changeable = tf.Variable([1,2,3,4])\n",
    "changeable[0].assign(3)"
   ]
  },
  {
   "cell_type": "code",
   "execution_count": 18,
   "id": "9282f6f9-0066-4dd5-9d0b-c5752a97be9b",
   "metadata": {},
   "outputs": [
    {
     "data": {
      "text/plain": [
       "<tf.Tensor: shape=(2, 2), dtype=bool, numpy=\n",
       "array([[ True,  True],\n",
       "       [ True,  True]])>"
      ]
     },
     "execution_count": 18,
     "metadata": {},
     "output_type": "execute_result"
    }
   ],
   "source": [
    "#generating random tensors \n",
    "random_1 = tf.random.Generator.from_seed(32)\n",
    "random_1 = random_1.normal(shape=(2,2))\n",
    "random_2 = tf.random.Generator.from_seed(32)\n",
    "random_2 = random_2.normal(shape=(2,2))\n",
    "random_2 ,random_1\n",
    "random_1 == random_2"
   ]
  },
  {
   "cell_type": "code",
   "execution_count": 25,
   "id": "1c2ddfb1-12ea-45ab-8ce6-b4abf1aaecce",
   "metadata": {},
   "outputs": [],
   "source": [
    "random_3 =  tf.random.Generator.from_seed(32)\n",
    "random_3_var = random_3.uniform(shape = (2,2) , minval=1 , maxval=10 , dtype=tf.int32)"
   ]
  },
  {
   "cell_type": "code",
   "execution_count": 26,
   "id": "865c380a-0516-4708-ac90-c658cbafe426",
   "metadata": {},
   "outputs": [
    {
     "data": {
      "text/plain": [
       "<tf.Tensor: shape=(2, 2), dtype=int32, numpy=\n",
       "array([[2, 9],\n",
       "       [5, 1]], dtype=int32)>"
      ]
     },
     "execution_count": 26,
     "metadata": {},
     "output_type": "execute_result"
    }
   ],
   "source": [
    "random_3_var"
   ]
  },
  {
   "cell_type": "code",
   "execution_count": 40,
   "id": "19814838-5009-413f-81fe-0f6eea760033",
   "metadata": {},
   "outputs": [
    {
     "data": {
      "text/plain": [
       "<tf.Tensor: shape=(3, 2), dtype=float32, numpy=\n",
       "array([[9.2879   , 7.8140306],\n",
       "       [4.020514 , 2.4612727],\n",
       "       [2.85181  , 5.463654 ]], dtype=float32)>"
      ]
     },
     "execution_count": 40,
     "metadata": {},
     "output_type": "execute_result"
    }
   ],
   "source": [
    "### shuffleing the tensor when we want to shuffle the data \n",
    "not_shuffle = tf.random.uniform(shape = (3,2) , minval=1 , maxval=10)\n",
    "not_shuffle"
   ]
  },
  {
   "cell_type": "code",
   "execution_count": 41,
   "id": "f72d24f4-2b1f-46c0-9e85-e75ad71323f1",
   "metadata": {},
   "outputs": [
    {
     "data": {
      "text/plain": [
       "<tf.Tensor: shape=(3, 2), dtype=float32, numpy=\n",
       "array([[2.85181  , 5.463654 ],\n",
       "       [4.020514 , 2.4612727],\n",
       "       [9.2879   , 7.8140306]], dtype=float32)>"
      ]
     },
     "execution_count": 41,
     "metadata": {},
     "output_type": "execute_result"
    }
   ],
   "source": [
    "tf.random.shuffle(not_shuffle)"
   ]
  },
  {
   "cell_type": "code",
   "execution_count": 47,
   "id": "4b4e72c2-879e-4a02-9dbe-573f670db7ff",
   "metadata": {},
   "outputs": [
    {
     "data": {
      "text/plain": [
       "<tf.Tensor: shape=(3, 2), dtype=float32, numpy=\n",
       "array([[2.85181  , 5.463654 ],\n",
       "       [9.2879   , 7.8140306],\n",
       "       [4.020514 , 2.4612727]], dtype=float32)>"
      ]
     },
     "execution_count": 47,
     "metadata": {},
     "output_type": "execute_result"
    }
   ],
   "source": [
    "#the shuffle becomes constant ranther then it diffres \n",
    "## performing the seed generation \n",
    "tf.random.set_seed(32)\n",
    "tf.random.shuffle(not_shuffle)"
   ]
  },
  {
   "cell_type": "code",
   "execution_count": 50,
   "id": "611213be-38b4-4b22-9897-fd12f2e3522c",
   "metadata": {},
   "outputs": [
    {
     "data": {
      "text/plain": [
       "<tf.Tensor: shape=(3, 2), dtype=float32, numpy=\n",
       "array([[2.85181  , 5.463654 ],\n",
       "       [4.020514 , 2.4612727],\n",
       "       [9.2879   , 7.8140306]], dtype=float32)>"
      ]
     },
     "execution_count": 50,
     "metadata": {},
     "output_type": "execute_result"
    }
   ],
   "source": [
    "# the shuffle alwaays differs \n",
    "#without the global level seed \n",
    "\n",
    "tf.random.shuffle(not_shuffle , seed=32)"
   ]
  },
  {
   "cell_type": "code",
   "execution_count": null,
   "id": "8abe2bce-d738-41b7-8307-2ab0d6f18729",
   "metadata": {},
   "outputs": [],
   "source": [
    "#creating the tensor from the numpy arrays \n"
   ]
  },
  {
   "cell_type": "code",
   "execution_count": 57,
   "id": "9619bb98-d87e-4cd7-97e2-bc8b4cf71469",
   "metadata": {},
   "outputs": [],
   "source": [
    "\n",
    "ones=tf.ones([2,2,2,2])"
   ]
  },
  {
   "cell_type": "code",
   "execution_count": 56,
   "id": "deee3771-910b-4bf7-ada3-97b24115373a",
   "metadata": {},
   "outputs": [],
   "source": [
    "#exploting the creation of tensors \n"
   ]
  },
  {
   "cell_type": "markdown",
   "id": "1401cc62-cd6b-4807-9488-0e97a91cefc0",
   "metadata": {},
   "source": [
    "### getting info from tensors"
   ]
  },
  {
   "cell_type": "code",
   "execution_count": 58,
   "id": "a7e5d174-fe1c-4cc0-886c-360e696c3cff",
   "metadata": {},
   "outputs": [
    {
     "data": {
      "text/plain": [
       "4"
      ]
     },
     "execution_count": 58,
     "metadata": {},
     "output_type": "execute_result"
    }
   ],
   "source": [
    "ones.ndim"
   ]
  },
  {
   "cell_type": "code",
   "execution_count": 78,
   "id": "5db0af2a-0ba0-4d65-884a-09f9b4b53514",
   "metadata": {},
   "outputs": [
    {
     "data": {
      "text/plain": [
       "TensorShape([2, 2, 2, 2])"
      ]
     },
     "execution_count": 78,
     "metadata": {},
     "output_type": "execute_result"
    }
   ],
   "source": [
    "ones.shape"
   ]
  },
  {
   "cell_type": "code",
   "execution_count": 79,
   "id": "3b7b711c-7687-4144-b01d-f579f31f1932",
   "metadata": {},
   "outputs": [
    {
     "data": {
      "text/plain": [
       "tf.float32"
      ]
     },
     "execution_count": 79,
     "metadata": {},
     "output_type": "execute_result"
    }
   ],
   "source": [
    "ones.dtype"
   ]
  },
  {
   "cell_type": "code",
   "execution_count": 83,
   "id": "974830da-0535-4cdb-a651-015dcf53f7c2",
   "metadata": {},
   "outputs": [
    {
     "data": {
      "text/plain": [
       "array([1., 1.], dtype=float32)"
      ]
     },
     "execution_count": 83,
     "metadata": {},
     "output_type": "execute_result"
    }
   ],
   "source": [
    "#indexing the tensor \n",
    "ones[1,1,1].numpy()"
   ]
  },
  {
   "cell_type": "code",
   "execution_count": 81,
   "id": "0ca6507d-5791-4eb8-95ba-6e729f70d7e1",
   "metadata": {},
   "outputs": [
    {
     "name": "stdout",
     "output_type": "stream",
     "text": [
      "<class 'tensorflow.python.framework.ops.EagerTensor'>\n"
     ]
    }
   ],
   "source": [
    "size = tf.size(ones)\n",
    "print(type(size))"
   ]
  },
  {
   "cell_type": "code",
   "execution_count": 4,
   "id": "974e932d-38d8-4e93-b236-aedd11b76536",
   "metadata": {},
   "outputs": [
    {
     "data": {
      "text/plain": [
       "<tf.Tensor: shape=(3, 2, 3), dtype=float64, numpy=\n",
       "array([[[1.3, 2.3, 3.3],\n",
       "        [4.3, 5.4, 6.3]],\n",
       "\n",
       "       [[5.4, 3.4, 0.4],\n",
       "        [0.6, 1.3, 2.3]],\n",
       "\n",
       "       [[3.3, 4.3, 5.4],\n",
       "        [6.3, 5.4, 3.4]]])>"
      ]
     },
     "execution_count": 4,
     "metadata": {},
     "output_type": "execute_result"
    }
   ],
   "source": [
    "#specifying the datatype \n",
    "c = tf.constant([1.3 , 2.3 , 3.3 , 4.3 , 5.4 , 6.3 ,5.4, 3.4 ,.4, .6,1.3 , 2.3 , 3.3 , 4.3 , 5.4 , 6.3 ,5.4, 3.4 ] ,dtype = tf.float64 ,shape=(3,2,3))\n",
    "c"
   ]
  },
  {
   "cell_type": "code",
   "execution_count": 82,
   "id": "b5feb84d-5673-491c-92aa-30b8c766b510",
   "metadata": {},
   "outputs": [
    {
     "data": {
      "text/plain": [
       "<tf.Tensor: shape=(2, 2, 2), dtype=float32, numpy=\n",
       "array([[[1., 1.],\n",
       "        [1., 1.]],\n",
       "\n",
       "       [[1., 1.],\n",
       "        [1., 1.]]], dtype=float32)>"
      ]
     },
     "execution_count": 82,
     "metadata": {},
     "output_type": "execute_result"
    }
   ],
   "source": [
    "ones[:,-1]"
   ]
  },
  {
   "cell_type": "code",
   "execution_count": 84,
   "id": "96e1e00c-6bcc-4067-9806-7a1197984555",
   "metadata": {},
   "outputs": [],
   "source": [
    "#addition subration  multiplication of the tensor \n",
    "### use the tf.math operations "
   ]
  },
  {
   "cell_type": "markdown",
   "id": "0495cf8e-8214-47e3-b5e9-3a0fd0aea87d",
   "metadata": {},
   "source": [
    "### matrix multiplication in tf "
   ]
  },
  {
   "cell_type": "code",
   "execution_count": 120,
   "id": "7d29e1da-783d-4560-baae-0bcf3083f750",
   "metadata": {},
   "outputs": [
    {
     "data": {
      "text/plain": [
       "(<tf.Tensor: shape=(2, 2), dtype=int32, numpy=\n",
       " array([[7, 3],\n",
       "        [6, 9]], dtype=int32)>,\n",
       " <tf.Tensor: shape=(2, 2), dtype=int32, numpy=\n",
       " array([[2, 9],\n",
       "        [2, 2]], dtype=int32)>)"
      ]
     },
     "execution_count": 120,
     "metadata": {},
     "output_type": "execute_result"
    }
   ],
   "source": [
    "tensor1 = tf.random.uniform(shape=(2,2),minval=1,maxval=10,dtype=tf.int32)\n",
    "tensor2 = tf.random.uniform(shape=(2,2),minval=1,maxval=10,dtype=tf.int32)\n",
    "tensor1 , tensor2"
   ]
  },
  {
   "cell_type": "code",
   "execution_count": 121,
   "id": "9bfe36c8-b2df-43c2-b3b8-739f3fa7f4e2",
   "metadata": {},
   "outputs": [
    {
     "data": {
      "text/plain": [
       "<tf.Tensor: shape=(2, 2), dtype=int32, numpy=\n",
       "array([[20, 69],\n",
       "       [30, 72]], dtype=int32)>"
      ]
     },
     "execution_count": 121,
     "metadata": {},
     "output_type": "execute_result"
    }
   ],
   "source": [
    "matrix_mul = tf.matmul(tensor1 , tensor2)\n",
    "matrix_mul"
   ]
  },
  {
   "cell_type": "code",
   "execution_count": 122,
   "id": "aa00b3a6-09d6-4de8-95b7-42f28e188179",
   "metadata": {},
   "outputs": [
    {
     "data": {
      "text/plain": [
       "<tf.Tensor: shape=(2, 2), dtype=int32, numpy=\n",
       "array([[20, 69],\n",
       "       [30, 72]], dtype=int32)>"
      ]
     },
     "execution_count": 122,
     "metadata": {},
     "output_type": "execute_result"
    }
   ],
   "source": [
    "tensor1 @ tensor2 #for the matrix mulitplication "
   ]
  },
  {
   "cell_type": "code",
   "execution_count": 123,
   "id": "4d0c711b-e910-4f98-8518-a80ebe365524",
   "metadata": {},
   "outputs": [],
   "source": [
    "##multiplying the tensor of weird shape \n",
    "x = tf.random.uniform(shape = (3,2) , minval = 1,  maxval=10,dtype=tf.int32)\n",
    "y = tf.random.uniform(shape = (3,2) , minval = 1,  maxval=10,dtype=tf.int32)\n",
    "new_x =tf.reshape(x , shape=(2,3))"
   ]
  },
  {
   "cell_type": "code",
   "execution_count": 124,
   "id": "2ae2963c-839c-4a42-a407-ade9d3d55feb",
   "metadata": {},
   "outputs": [
    {
     "data": {
      "text/plain": [
       "<tf.Tensor: shape=(2, 2), dtype=int32, numpy=\n",
       "array([[60, 83],\n",
       "       [63, 59]], dtype=int32)>"
      ]
     },
     "execution_count": 124,
     "metadata": {},
     "output_type": "execute_result"
    }
   ],
   "source": [
    "mat_mul = new_x@y\n",
    "mat_mul"
   ]
  },
  {
   "cell_type": "code",
   "execution_count": 125,
   "id": "17638fb2-8d12-4480-bc2b-dd6c012014c0",
   "metadata": {},
   "outputs": [],
   "source": [
    "a =tf.reshape(mat_mul , shape=(1,tf.size(mat_mul).numpy()))"
   ]
  },
  {
   "cell_type": "code",
   "execution_count": 126,
   "id": "92e1395c-9e78-4960-8ed7-f4072cdacbe3",
   "metadata": {},
   "outputs": [
    {
     "data": {
      "text/plain": [
       "<tf.Tensor: shape=(2, 2), dtype=int32, numpy=\n",
       "array([[60, 63],\n",
       "       [83, 59]], dtype=int32)>"
      ]
     },
     "execution_count": 126,
     "metadata": {},
     "output_type": "execute_result"
    }
   ],
   "source": [
    "## transpose of the matrix \n",
    "tf.transpose(mat_mul)"
   ]
  },
  {
   "cell_type": "code",
   "execution_count": 130,
   "id": "c1450ff2-ce34-406b-a0fc-09b0a754ec40",
   "metadata": {},
   "outputs": [
    {
     "data": {
      "text/plain": [
       "<tf.Tensor: shape=(2, 3, 3, 2), dtype=int32, numpy=\n",
       "array([[[[24, 72],\n",
       "         [32,  8],\n",
       "         [64, 24]],\n",
       "\n",
       "        [[ 6, 18],\n",
       "         [ 8,  2],\n",
       "         [16,  6]],\n",
       "\n",
       "        [[24, 72],\n",
       "         [32,  8],\n",
       "         [64, 24]]],\n",
       "\n",
       "\n",
       "       [[[15, 45],\n",
       "         [20,  5],\n",
       "         [40, 15]],\n",
       "\n",
       "        [[15, 45],\n",
       "         [20,  5],\n",
       "         [40, 15]],\n",
       "\n",
       "        [[ 6, 18],\n",
       "         [ 8,  2],\n",
       "         [16,  6]]]], dtype=int32)>"
      ]
     },
     "execution_count": 130,
     "metadata": {},
     "output_type": "execute_result"
    }
   ],
   "source": [
    "tf.tensordot(tf.transpose(x) , y , 0)"
   ]
  },
  {
   "cell_type": "code",
   "execution_count": null,
   "id": "017942b1-04f2-45aa-8e7e-7f6c43c3f4e7",
   "metadata": {},
   "outputs": [],
   "source": []
  }
 ],
 "metadata": {
  "kernelspec": {
   "display_name": "Python 3 (ipykernel)",
   "language": "python",
   "name": "python3"
  },
  "language_info": {
   "codemirror_mode": {
    "name": "ipython",
    "version": 3
   },
   "file_extension": ".py",
   "mimetype": "text/x-python",
   "name": "python",
   "nbconvert_exporter": "python",
   "pygments_lexer": "ipython3",
   "version": "3.11.5"
  }
 },
 "nbformat": 4,
 "nbformat_minor": 5
}
