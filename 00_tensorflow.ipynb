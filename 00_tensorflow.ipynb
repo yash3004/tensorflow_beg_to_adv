{
 "cells": [
  {
   "cell_type": "code",
   "execution_count": 1,
   "id": "364c7d9f-4cb5-4ece-9196-dc3eeeddfe7c",
   "metadata": {},
   "outputs": [
    {
     "name": "stderr",
     "output_type": "stream",
     "text": [
      "2024-03-26 14:25:17.917357: E external/local_xla/xla/stream_executor/cuda/cuda_dnn.cc:9261] Unable to register cuDNN factory: Attempting to register factory for plugin cuDNN when one has already been registered\n",
      "2024-03-26 14:25:17.917599: E external/local_xla/xla/stream_executor/cuda/cuda_fft.cc:607] Unable to register cuFFT factory: Attempting to register factory for plugin cuFFT when one has already been registered\n",
      "2024-03-26 14:25:18.073241: E external/local_xla/xla/stream_executor/cuda/cuda_blas.cc:1515] Unable to register cuBLAS factory: Attempting to register factory for plugin cuBLAS when one has already been registered\n",
      "2024-03-26 14:25:18.556950: I tensorflow/core/platform/cpu_feature_guard.cc:182] This TensorFlow binary is optimized to use available CPU instructions in performance-critical operations.\n",
      "To enable the following instructions: AVX2 FMA, in other operations, rebuild TensorFlow with the appropriate compiler flags.\n",
      "2024-03-26 14:25:22.569420: W tensorflow/compiler/tf2tensorrt/utils/py_utils.cc:38] TF-TRT Warning: Could not find TensorRT\n"
     ]
    }
   ],
   "source": [
    "import tensorflow as tf "
   ]
  },
  {
   "cell_type": "markdown",
   "id": "b5280750-c919-434f-86c7-a8c7830b38e7",
   "metadata": {},
   "source": [
    "### lets statty lrstning  the tensorflow more clrearly then evner \n",
    "\n"
   ]
  },
  {
   "cell_type": "code",
   "execution_count": 23,
   "id": "e5713704-53e6-4ec9-b864-d221d88fda29",
   "metadata": {},
   "outputs": [
    {
     "name": "stdout",
     "output_type": "stream",
     "text": [
      "tf.Tensor(\n",
      "[[4 5]\n",
      " [6 7]], shape=(2, 2), dtype=int32) tf.Tensor(\n",
      "[[ 2  1]\n",
      " [ 0 -1]], shape=(2, 2), dtype=int32) tf.Tensor(\n",
      "[[ 3  6]\n",
      " [ 9 12]], shape=(2, 2), dtype=int32) tf.Tensor(\n",
      "[[0.33333333 0.66666667]\n",
      " [1.         1.33333333]], shape=(2, 2), dtype=float64)\n"
     ]
    }
   ],
   "source": [
    "### from this we got to knwo matrix / tendors with similar shapes can be multiplied and div \n",
    "#tensors are created by the tf.constant\n",
    "#init a tf.constant \n",
    "a = tf.constant([1,2,3,4] , shape=(2,2))\n",
    "b= tf.constant(3)\n",
    "print(a+b , b-a , a*b , a/b)"
   ]
  },
  {
   "cell_type": "code",
   "execution_count": 32,
   "id": "f1b29232-765c-4920-b025-f6a19ed1f96f",
   "metadata": {},
   "outputs": [
    {
     "data": {
      "text/plain": [
       "<tf.Tensor: shape=(3, 2, 3), dtype=float64, numpy=\n",
       "array([[[1.3, 2.3, 3.3],\n",
       "        [4.3, 5.4, 6.3]],\n",
       "\n",
       "       [[5.4, 3.4, 0.4],\n",
       "        [0.6, 1.3, 2.3]],\n",
       "\n",
       "       [[3.3, 4.3, 5.4],\n",
       "        [6.3, 5.4, 3.4]]])>"
      ]
     },
     "execution_count": 32,
     "metadata": {},
     "output_type": "execute_result"
    }
   ],
   "source": [
    "#specifying the datatype \n",
    "c = tf.constant([1.3 , 2.3 , 3.3 , 4.3 , 5.4 , 6.3 ,5.4, 3.4 ,.4, .6,1.3 , 2.3 , 3.3 , 4.3 , 5.4 , 6.3 ,5.4, 3.4 ] ,dtype = tf.float64 ,shape=(3,2,3))\n",
    "c"
   ]
  },
  {
   "cell_type": "code",
   "execution_count": 34,
   "id": "f2801137-86fd-4d6e-9aa7-58f2625f51c5",
   "metadata": {},
   "outputs": [
    {
     "data": {
      "text/plain": [
       "<tf.Variable 'UnreadVariable' shape=(4,) dtype=int32, numpy=array([3, 2, 3, 4], dtype=int32)>"
      ]
     },
     "execution_count": 34,
     "metadata": {},
     "output_type": "execute_result"
    }
   ],
   "source": [
    "##using the variable \n",
    "\n",
    "changeable = tf.Variable([1,2,3,4])\n",
    "changeable[0].assign(3)"
   ]
  },
  {
   "cell_type": "code",
   "execution_count": null,
   "id": "9282f6f9-0066-4dd5-9d0b-c5752a97be9b",
   "metadata": {},
   "outputs": [],
   "source": [
    "#generating random tensors \n",
    "random_1 = tf.random.Generator.from_seed"
   ]
  }
 ],
 "metadata": {
  "kernelspec": {
   "display_name": "Python 3 (ipykernel)",
   "language": "python",
   "name": "python3"
  },
  "language_info": {
   "codemirror_mode": {
    "name": "ipython",
    "version": 3
   },
   "file_extension": ".py",
   "mimetype": "text/x-python",
   "name": "python",
   "nbconvert_exporter": "python",
   "pygments_lexer": "ipython3",
   "version": "3.11.5"
  }
 },
 "nbformat": 4,
 "nbformat_minor": 5
}
